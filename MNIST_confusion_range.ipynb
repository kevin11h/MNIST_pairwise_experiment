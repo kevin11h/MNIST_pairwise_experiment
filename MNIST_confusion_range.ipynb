{
 "cells": [
  {
   "cell_type": "markdown",
   "metadata": {
    "collapsed": true
   },
   "source": [
    "# MNIST exploring \"confuison\" range of failed classifications"
   ]
  },
  {
   "cell_type": "code",
   "execution_count": 37,
   "metadata": {},
   "outputs": [],
   "source": [
    "import tensorflow as tf\n",
    "import pandas as pd\n",
    "import seaborn as sns\n",
    "import matplotlib.pyplot as plt\n",
    "from tensorflow.examples.tutorials.mnist import input_data\n",
    "\n",
    "%matplotlib inline"
   ]
  },
  {
   "cell_type": "code",
   "execution_count": 3,
   "metadata": {},
   "outputs": [
    {
     "name": "stdout",
     "output_type": "stream",
     "text": [
      "Extracting MNIST_data/train-images-idx3-ubyte.gz\n",
      "Extracting MNIST_data/train-labels-idx1-ubyte.gz\n",
      "Extracting MNIST_data/t10k-images-idx3-ubyte.gz\n",
      "Extracting MNIST_data/t10k-labels-idx1-ubyte.gz\n"
     ]
    }
   ],
   "source": [
    "mnist = input_data.read_data_sets(\"MNIST_data/\",one_hot=True)"
   ]
  },
  {
   "cell_type": "code",
   "execution_count": 87,
   "metadata": {},
   "outputs": [
    {
     "data": {
      "text/plain": [
       "<matplotlib.image.AxesImage at 0x7fe8a0039b00>"
      ]
     },
     "execution_count": 87,
     "metadata": {},
     "output_type": "execute_result"
    },
    {
     "data": {
      "image/png": "[encoded data removed]",
      "text/plain": [
       "<matplotlib.figure.Figure at 0x7fe8a0109630>"
      ]
     },
     "metadata": {},
     "output_type": "display_data"
    }
   ],
   "source": [
    "plt.imshow(mnist.train.images[1].reshape(28,28),cmap='gist_gray')"
   ]
  },
  {
   "cell_type": "markdown",
   "metadata": {},
   "source": [
    "## Tensorflow"
   ]
  },
  {
   "cell_type": "code",
   "execution_count": 88,
   "metadata": {},
   "outputs": [],
   "source": [
    "\n",
    "# set up tensorflow variables\n",
    "x = tf.placeholder(tf.float32,shape=[None,784])\n",
    "W = tf.Variable(tf.zeros([784,10]))\n",
    "b = tf.Variable(tf.zeros([10]))\n",
    "\n",
    "# Create the Graph\n",
    "y = tf.matmul(x,W) + b \n",
    "y_true = tf.placeholder(tf.float32,[None,10])\n",
    "\n",
    "# Cross Entropy\n",
    "cross_entropy = tf.reduce_mean(tf.nn.softmax_cross_entropy_with_logits_v2(labels=y_true, logits=y))\n",
    "optimizer = tf.train.GradientDescentOptimizer(learning_rate=0.5)\n",
    "\n",
    "train = optimizer.minimize(cross_entropy)"
   ]
  },
  {
   "cell_type": "markdown",
   "metadata": {},
   "source": [
    "### Create Session"
   ]
  },
  {
   "cell_type": "code",
   "execution_count": 26,
   "metadata": {},
   "outputs": [],
   "source": [
    "init = tf.global_variables_initializer()\n",
    "\n",
    "with tf.Session() as sess:\n",
    "    sess.run(init)\n",
    "\n",
    "    for step in range(1000):\n",
    "        \n",
    "        batch_x , batch_y = mnist.train.next_batch(100)\n",
    "        sess.run(train,feed_dict={x:batch_x,y_true:batch_y})\n",
    "    \n",
    "    saver = tf.train.Saver()\n",
    "    saver.save(sess, 'weights/confusion.ckpt')\n",
    "    \n",
    "    matches = tf.equal(tf.argmax(y,1),tf.argmax(y_true,1))\n",
    "    acc = tf.reduce_mean(tf.cast(matches,tf.float32))\n",
    "    \n",
    "    print(sess.run(acc,feed_dict={x:mnist.test.images,y_true:mnist.test.labels}))"
   ]
  },
  {
   "cell_type": "code",
   "execution_count": 28,
   "metadata": {},
   "outputs": [
    {
     "name": "stdout",
     "output_type": "stream",
     "text": [
      "INFO:tensorflow:Restoring parameters from weights/confusion.ckpt\n"
     ]
    }
   ],
   "source": [
    "with tf.Session() as sess:\n",
    "    \n",
    "    # restore saved model\n",
    "    saver = tf.train.Saver()\n",
    "    saver.restore(sess, 'weights/confusion.ckpt')\n",
    "        \n",
    "    batch_x , batch_y = mnist.train.images, mnist.train.labels\n",
    "    pred = sess.run(y,feed_dict={x:batch_x,y_true:batch_y})\n",
    "#     print(pred)"
   ]
  },
  {
   "cell_type": "code",
   "execution_count": 29,
   "metadata": {},
   "outputs": [],
   "source": [
    "top = {}\n",
    "top['Y'] = []\n",
    "top['1_arg'] = []\n",
    "top['1_weight'] = []\n",
    "top['2_arg'] = []\n",
    "top['2_weight'] = []\n",
    "\n",
    "\n",
    "for i in range(pred.shape[0]):\n",
    "\n",
    "    top['Y'].append(batch_y[i].argmax())\n",
    "\n",
    "    # get first top prediction                 \n",
    "    top['1_arg'].append(pred[i].argmax())\n",
    "    top['1_weight'].append(pred[i][top['1_arg'][i]])\n",
    "\n",
    "    #reset it in the list                \n",
    "    pred[i][top['1_arg'][i]] = 0\n",
    "\n",
    "    # now, get second top prediction                \n",
    "    top['2_arg'].append(pred[i].argmax())\n",
    "    top['2_weight'].append(pred[i][top['2_arg'][i]])     \n"
   ]
  },
  {
   "cell_type": "code",
   "execution_count": 40,
   "metadata": {},
   "outputs": [
    {
     "data": {
      "text/html": [
       "<div>\n",
       "<style scoped>\n",
       "    .dataframe tbody tr th:only-of-type {\n",
       "        vertical-align: middle;\n",
       "    }\n",
       "\n",
       "    .dataframe tbody tr th {\n",
       "        vertical-align: top;\n",
       "    }\n",
       "\n",
       "    .dataframe thead th {\n",
       "        text-align: right;\n",
       "    }\n",
       "</style>\n",
       "<table border=\"1\" class=\"dataframe\">\n",
       "  <thead>\n",
       "    <tr style=\"text-align: right;\">\n",
       "      <th></th>\n",
       "      <th>1_arg</th>\n",
       "      <th>1_weight</th>\n",
       "      <th>2_arg</th>\n",
       "      <th>2_weight</th>\n",
       "      <th>Y</th>\n",
       "      <th>diff</th>\n",
       "      <th>correct</th>\n",
       "    </tr>\n",
       "  </thead>\n",
       "  <tbody>\n",
       "    <tr>\n",
       "      <th>0</th>\n",
       "      <td>1</td>\n",
       "      <td>9.116402</td>\n",
       "      <td>3</td>\n",
       "      <td>3.036011</td>\n",
       "      <td>1</td>\n",
       "      <td>6.080391</td>\n",
       "      <td>True</td>\n",
       "    </tr>\n",
       "    <tr>\n",
       "      <th>1</th>\n",
       "      <td>2</td>\n",
       "      <td>13.835535</td>\n",
       "      <td>3</td>\n",
       "      <td>5.310859</td>\n",
       "      <td>2</td>\n",
       "      <td>8.524676</td>\n",
       "      <td>True</td>\n",
       "    </tr>\n",
       "    <tr>\n",
       "      <th>2</th>\n",
       "      <td>3</td>\n",
       "      <td>8.560400</td>\n",
       "      <td>8</td>\n",
       "      <td>3.292883</td>\n",
       "      <td>3</td>\n",
       "      <td>5.267517</td>\n",
       "      <td>True</td>\n",
       "    </tr>\n",
       "    <tr>\n",
       "      <th>3</th>\n",
       "      <td>5</td>\n",
       "      <td>2.219664</td>\n",
       "      <td>9</td>\n",
       "      <td>2.122555</td>\n",
       "      <td>5</td>\n",
       "      <td>0.097109</td>\n",
       "      <td>True</td>\n",
       "    </tr>\n",
       "    <tr>\n",
       "      <th>4</th>\n",
       "      <td>0</td>\n",
       "      <td>10.377380</td>\n",
       "      <td>5</td>\n",
       "      <td>7.171851</td>\n",
       "      <td>0</td>\n",
       "      <td>3.205529</td>\n",
       "      <td>True</td>\n",
       "    </tr>\n",
       "  </tbody>\n",
       "</table>\n",
       "</div>"
      ],
      "text/plain": [
       "   1_arg   1_weight  2_arg  2_weight  Y      diff  correct\n",
       "0      1   9.116402      3  3.036011  1  6.080391     True\n",
       "1      2  13.835535      3  5.310859  2  8.524676     True\n",
       "2      3   8.560400      8  3.292883  3  5.267517     True\n",
       "3      5   2.219664      9  2.122555  5  0.097109     True\n",
       "4      0  10.377380      5  7.171851  0  3.205529     True"
      ]
     },
     "execution_count": 40,
     "metadata": {},
     "output_type": "execute_result"
    }
   ],
   "source": [
    "results = pd.DataFrame(top)\n",
    "results['diff'] = abs(results['1_weight'] - results['2_weight'])\n",
    "results['correct'] = results['Y']==results['1_arg']\n",
    "\n",
    "results.head()"
   ]
  },
  {
   "cell_type": "code",
   "execution_count": 41,
   "metadata": {},
   "outputs": [
    {
     "data": {
      "text/html": [
       "<div>\n",
       "<style scoped>\n",
       "    .dataframe tbody tr th:only-of-type {\n",
       "        vertical-align: middle;\n",
       "    }\n",
       "\n",
       "    .dataframe tbody tr th {\n",
       "        vertical-align: top;\n",
       "    }\n",
       "\n",
       "    .dataframe thead th {\n",
       "        text-align: right;\n",
       "    }\n",
       "</style>\n",
       "<table border=\"1\" class=\"dataframe\">\n",
       "  <thead>\n",
       "    <tr style=\"text-align: right;\">\n",
       "      <th></th>\n",
       "      <th>1_arg</th>\n",
       "      <th>1_weight</th>\n",
       "      <th>2_arg</th>\n",
       "      <th>2_weight</th>\n",
       "      <th>Y</th>\n",
       "      <th>diff</th>\n",
       "      <th>correct</th>\n",
       "    </tr>\n",
       "  </thead>\n",
       "  <tbody>\n",
       "    <tr>\n",
       "      <th>0</th>\n",
       "      <td>1</td>\n",
       "      <td>9.116402</td>\n",
       "      <td>3</td>\n",
       "      <td>3.036011</td>\n",
       "      <td>1</td>\n",
       "      <td>6.080391</td>\n",
       "      <td>True</td>\n",
       "    </tr>\n",
       "    <tr>\n",
       "      <th>1</th>\n",
       "      <td>2</td>\n",
       "      <td>13.835535</td>\n",
       "      <td>3</td>\n",
       "      <td>5.310859</td>\n",
       "      <td>2</td>\n",
       "      <td>8.524676</td>\n",
       "      <td>True</td>\n",
       "    </tr>\n",
       "    <tr>\n",
       "      <th>2</th>\n",
       "      <td>3</td>\n",
       "      <td>8.560400</td>\n",
       "      <td>8</td>\n",
       "      <td>3.292883</td>\n",
       "      <td>3</td>\n",
       "      <td>5.267517</td>\n",
       "      <td>True</td>\n",
       "    </tr>\n",
       "    <tr>\n",
       "      <th>3</th>\n",
       "      <td>5</td>\n",
       "      <td>2.219664</td>\n",
       "      <td>9</td>\n",
       "      <td>2.122555</td>\n",
       "      <td>5</td>\n",
       "      <td>0.097109</td>\n",
       "      <td>True</td>\n",
       "    </tr>\n",
       "    <tr>\n",
       "      <th>4</th>\n",
       "      <td>0</td>\n",
       "      <td>10.377380</td>\n",
       "      <td>5</td>\n",
       "      <td>7.171851</td>\n",
       "      <td>0</td>\n",
       "      <td>3.205529</td>\n",
       "      <td>True</td>\n",
       "    </tr>\n",
       "  </tbody>\n",
       "</table>\n",
       "</div>"
      ],
      "text/plain": [
       "   1_arg   1_weight  2_arg  2_weight  Y      diff  correct\n",
       "0      1   9.116402      3  3.036011  1  6.080391     True\n",
       "1      2  13.835535      3  5.310859  2  8.524676     True\n",
       "2      3   8.560400      8  3.292883  3  5.267517     True\n",
       "3      5   2.219664      9  2.122555  5  0.097109     True\n",
       "4      0  10.377380      5  7.171851  0  3.205529     True"
      ]
     },
     "execution_count": 41,
     "metadata": {},
     "output_type": "execute_result"
    }
   ],
   "source": [
    "correct = results[results['correct']==True]\n",
    "correct.head()"
   ]
  },
  {
   "cell_type": "code",
   "execution_count": 42,
   "metadata": {},
   "outputs": [
    {
     "data": {
      "text/html": [
       "<div>\n",
       "<style scoped>\n",
       "    .dataframe tbody tr th:only-of-type {\n",
       "        vertical-align: middle;\n",
       "    }\n",
       "\n",
       "    .dataframe tbody tr th {\n",
       "        vertical-align: top;\n",
       "    }\n",
       "\n",
       "    .dataframe thead th {\n",
       "        text-align: right;\n",
       "    }\n",
       "</style>\n",
       "<table border=\"1\" class=\"dataframe\">\n",
       "  <thead>\n",
       "    <tr style=\"text-align: right;\">\n",
       "      <th></th>\n",
       "      <th>1_arg</th>\n",
       "      <th>1_weight</th>\n",
       "      <th>2_arg</th>\n",
       "      <th>2_weight</th>\n",
       "      <th>Y</th>\n",
       "      <th>diff</th>\n",
       "      <th>correct</th>\n",
       "    </tr>\n",
       "  </thead>\n",
       "  <tbody>\n",
       "    <tr>\n",
       "      <th>7</th>\n",
       "      <td>5</td>\n",
       "      <td>4.104667</td>\n",
       "      <td>6</td>\n",
       "      <td>3.619210</td>\n",
       "      <td>6</td>\n",
       "      <td>0.485456</td>\n",
       "      <td>False</td>\n",
       "    </tr>\n",
       "    <tr>\n",
       "      <th>10</th>\n",
       "      <td>6</td>\n",
       "      <td>4.363631</td>\n",
       "      <td>8</td>\n",
       "      <td>3.204559</td>\n",
       "      <td>8</td>\n",
       "      <td>1.159072</td>\n",
       "      <td>False</td>\n",
       "    </tr>\n",
       "    <tr>\n",
       "      <th>20</th>\n",
       "      <td>6</td>\n",
       "      <td>5.810632</td>\n",
       "      <td>2</td>\n",
       "      <td>5.478035</td>\n",
       "      <td>8</td>\n",
       "      <td>0.332596</td>\n",
       "      <td>False</td>\n",
       "    </tr>\n",
       "    <tr>\n",
       "      <th>29</th>\n",
       "      <td>6</td>\n",
       "      <td>4.909739</td>\n",
       "      <td>2</td>\n",
       "      <td>4.291502</td>\n",
       "      <td>2</td>\n",
       "      <td>0.618237</td>\n",
       "      <td>False</td>\n",
       "    </tr>\n",
       "    <tr>\n",
       "      <th>34</th>\n",
       "      <td>4</td>\n",
       "      <td>4.647733</td>\n",
       "      <td>9</td>\n",
       "      <td>4.337019</td>\n",
       "      <td>9</td>\n",
       "      <td>0.310714</td>\n",
       "      <td>False</td>\n",
       "    </tr>\n",
       "  </tbody>\n",
       "</table>\n",
       "</div>"
      ],
      "text/plain": [
       "    1_arg  1_weight  2_arg  2_weight  Y      diff  correct\n",
       "7       5  4.104667      6  3.619210  6  0.485456    False\n",
       "10      6  4.363631      8  3.204559  8  1.159072    False\n",
       "20      6  5.810632      2  5.478035  8  0.332596    False\n",
       "29      6  4.909739      2  4.291502  2  0.618237    False\n",
       "34      4  4.647733      9  4.337019  9  0.310714    False"
      ]
     },
     "execution_count": 42,
     "metadata": {},
     "output_type": "execute_result"
    }
   ],
   "source": [
    "wrong = results[results['correct']==False]\n",
    "wrong.head()"
   ]
  },
  {
   "cell_type": "code",
   "execution_count": 45,
   "metadata": {},
   "outputs": [
    {
     "data": {
      "image/png": "[encoded data removed]",
      "text/plain": [
       "<matplotlib.figure.Figure at 0x7fe8a016cd68>"
      ]
     },
     "metadata": {},
     "output_type": "display_data"
    }
   ],
   "source": [
    "# sns.kdeplot(results['diff'])\n",
    "sns.kdeplot(correct['diff'], label=\"correct\")\n",
    "sns.kdeplot(wrong['diff'], label=\"wrong\")\n",
    "plt.legend();"
   ]
  },
  {
   "cell_type": "code",
   "execution_count": 92,
   "metadata": {},
   "outputs": [
    {
     "data": {
      "text/plain": [
       "True     50536\n",
       "False     4464\n",
       "Name: correct, dtype: int64"
      ]
     },
     "execution_count": 92,
     "metadata": {},
     "output_type": "execute_result"
    }
   ],
   "source": [
    "results['correct'].value_counts()"
   ]
  },
  {
   "cell_type": "code",
   "execution_count": 94,
   "metadata": {},
   "outputs": [
    {
     "data": {
      "text/plain": [
       "0.0025609876806085285"
      ]
     },
     "execution_count": 94,
     "metadata": {},
     "output_type": "execute_result"
    }
   ],
   "source": [
    "1-(55000-(4464*(1-0.9684466123580933)))/55000"
   ]
  }
 ],
 "metadata": {
  "kernelspec": {
   "display_name": "Python 3",
   "language": "python",
   "name": "python3"
  },
  "language_info": {
   "codemirror_mode": {
    "name": "ipython",
    "version": 3
   },
   "file_extension": ".py",
   "mimetype": "text/x-python",
   "name": "python",
   "nbconvert_exporter": "python",
   "pygments_lexer": "ipython3",
   "version": "3.6.4"
  }
 },
 "nbformat": 4,
 "nbformat_minor": 2
}
