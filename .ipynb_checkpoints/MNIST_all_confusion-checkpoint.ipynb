{
 "cells": [
  {
   "cell_type": "markdown",
   "metadata": {
    "collapsed": true
   },
   "source": [
    "# Experiment in pairwise MNIST digits training using Tensorflow"
   ]
  },
  {
   "cell_type": "code",
   "execution_count": 1,
   "metadata": {},
   "outputs": [
    {
     "name": "stderr",
     "output_type": "stream",
     "text": [
      "/home/playadust/anaconda3/lib/python3.6/site-packages/h5py/__init__.py:36: FutureWarning: Conversion of the second argument of issubdtype from `float` to `np.floating` is deprecated. In future, it will be treated as `np.float64 == np.dtype(float).type`.\n",
      "  from ._conv import register_converters as _register_converters\n"
     ]
    }
   ],
   "source": [
    "import tensorflow as tf\n",
    "import numpy as np\n",
    "from sklearn.preprocessing import MinMaxScaler\n",
    "from tensorflow.examples.tutorials.mnist import input_data\n",
    "\n",
    "import pandas as pd\n",
    "import numpy as np; np.random.seed(0)\n",
    "import seaborn as sns; sns.set()\n",
    "\n",
    "%matplotlib inline\n",
    "\n",
    "import matplotlib.pyplot as plt\n",
    "%matplotlib inline"
   ]
  },
  {
   "cell_type": "code",
   "execution_count": 2,
   "metadata": {},
   "outputs": [
    {
     "name": "stdout",
     "output_type": "stream",
     "text": [
      "Extracting MNIST_data/train-images-idx3-ubyte.gz\n",
      "Extracting MNIST_data/train-labels-idx1-ubyte.gz\n",
      "Extracting MNIST_data/t10k-images-idx3-ubyte.gz\n",
      "Extracting MNIST_data/t10k-labels-idx1-ubyte.gz\n"
     ]
    }
   ],
   "source": [
    "mnist = input_data.read_data_sets(\"MNIST_data/\",one_hot=True)"
   ]
  },
  {
   "cell_type": "code",
   "execution_count": 74,
   "metadata": {},
   "outputs": [],
   "source": [
    "# create empty 'containers' to store train and test sets for number pairs\n",
    "\n",
    "numbers_x = [[[] for x in range(10)] for x in range(10)]\n",
    "numbers_y = [[[] for x in range(10)] for x in range(10)]\n",
    "\n",
    "numbers_all_x = [[[] for x in range(10)] for x in range(10)]\n",
    "numbers_all_y = [[[] for x in range(10)] for x in range(10)]\n",
    "\n",
    "numbers_test_x = [[[] for x in range(10)] for x in range(10)]\n",
    "numbers_test_y = [[[] for x in range(10)] for x in range(10)]"
   ]
  },
  {
   "cell_type": "code",
   "execution_count": 75,
   "metadata": {},
   "outputs": [],
   "source": [
    "for n1 in range(10):\n",
    "    for n2 in range(n1+1,10):\n",
    "                \n",
    "        ## -- extract IMAGES\n",
    "\n",
    "        # MNIST mask for first digit \n",
    "        mask = mnist.train.labels[:] == [1 if x==n1 else 0 for x in range(10)]\n",
    "        m1 = [True if x.sum()==10 else False for x in mask]\n",
    "\n",
    "        # MNIST mask for second digit \n",
    "        mask = mnist.train.labels[:] == [1 if x==n2 else 0 for x in range(10)]\n",
    "        m2 = [True if x.sum()==10 else False for x in mask]\n",
    "\n",
    "        # combine masks\n",
    "        msk = [a+b>0 for a,b in zip(m1,m2)]\n",
    "        \n",
    "        # apply masks\n",
    "        numbers_images = mnist.train.images[msk]\n",
    "        numbers_labels = mnist.train.labels[msk]\n",
    "        \n",
    "        # original MNIST object has next_batch, which we cannot use now that we're packing \n",
    "        # filtered data into an array format, so we're going to break it here into 100 batches\n",
    "        numbers_x[n1][n2] = numbers_images[:10000].reshape([100,100,784])\n",
    "        numbers_y[n1][n2] = numbers_labels[:10000].reshape([100,100,10])\n",
    "       \n",
    "        numbers_all_x[n1][n2] = numbers_images\n",
    "        numbers_all_y[n1][n2] = numbers_labels\n",
    "       \n",
    "        \n",
    "        ## -- extract LABELS\n",
    "        \n",
    "        mask = mnist.test.labels[:] == [1 if x==n1 else 0 for x in range(10)]\n",
    "        m1 = [True if x.sum()==10 else False for x in mask]\n",
    "\n",
    "        mask = mnist.test.labels[:] == [1 if x==n2 else 0 for x in range(10)]\n",
    "        m2 = [True if x.sum()==10 else False for x in mask]\n",
    "\n",
    "        msk = [a+b>0 for a,b in zip(m1,m2)]\n",
    "\n",
    "        numbers_test_x[n1][n2] = mnist.test.images[msk]\n",
    "        numbers_test_y[n1][n2] = mnist.test.labels[msk]\n"
   ]
  },
  {
   "cell_type": "code",
   "execution_count": 20,
   "metadata": {},
   "outputs": [
    {
     "name": "stdout",
     "output_type": "stream",
     "text": [
      "[0. 0. 0. 0. 0. 0. 0. 1. 0. 0.]\n"
     ]
    },
    {
     "data": {
      "image/png": "[encoded data removed]",
      "text/plain": [
       "<matplotlib.figure.Figure at 0x7fdad574f048>"
      ]
     },
     "metadata": {},
     "output_type": "display_data"
    }
   ],
   "source": [
    "# sanity check \n",
    "n1, n2 = 6, 7\n",
    "batch, i = 1, 20\n",
    "\n",
    "plt.imshow(numbers_x[n1][n2][batch][i].reshape(28,28))\n",
    "print(numbers_y[n1][n2][batch][i])"
   ]
  },
  {
   "cell_type": "markdown",
   "metadata": {},
   "source": [
    "## Prepare Tensorflow graph"
   ]
  },
  {
   "cell_type": "code",
   "execution_count": 6,
   "metadata": {},
   "outputs": [],
   "source": [
    "# Basic stuff\n",
    "x = tf.placeholder(tf.float32,shape=[None,784])\n",
    "W = tf.Variable(tf.zeros([784,10]))\n",
    "b = tf.Variable(tf.zeros([10]))\n",
    "\n",
    "# Create the Graph\n",
    "y = tf.matmul(x,W) + b \n",
    "y_true = tf.placeholder(tf.float32,[None,10])\n",
    "\n",
    "# Cross Entropy\n",
    "cross_entropy = tf.reduce_mean(tf.nn.softmax_cross_entropy_with_logits_v2(labels=y_true, logits=y))\n",
    "optimizer = tf.train.GradientDescentOptimizer(learning_rate=0.5)\n",
    "\n",
    "train = optimizer.minimize(cross_entropy)"
   ]
  },
  {
   "cell_type": "markdown",
   "metadata": {},
   "source": [
    "### Create Session"
   ]
  },
  {
   "cell_type": "code",
   "execution_count": 7,
   "metadata": {},
   "outputs": [],
   "source": [
    "init = tf.global_variables_initializer()"
   ]
  },
  {
   "cell_type": "code",
   "execution_count": 46,
   "metadata": {},
   "outputs": [
    {
     "name": "stdout",
     "output_type": "stream",
     "text": [
      "digits: 2 7  |  score: 0.9684466123580933\n"
     ]
    }
   ],
   "source": [
    "\n",
    "### TRAIN\n",
    "\n",
    "scores_list = [] # this will host a sorted list of scores for an easier output and analysis at the end\n",
    "\n",
    "# loop through combos of digits and run tensorflow graph for each  \n",
    "# for n1 in range(10):\n",
    "#     for n2 in range(n1+1,10):\n",
    "\n",
    "n1 = 2\n",
    "n2 = 7\n",
    "\n",
    "with tf.Session() as sess:\n",
    "    sess.run(init)\n",
    "\n",
    "    for step in range(100):\n",
    "\n",
    "        batch_x , batch_y = numbers_x[n1][n2][step], numbers_y[n1][n2][step]\n",
    "        sess.run(train,feed_dict={x:batch_x,y_true:batch_y})\n",
    "\n",
    "     \n",
    "    ## saving model\n",
    "    saver = tf.train.Saver()\n",
    "    saver.save(sess, 'weights/test.ckpt')\n",
    "                \n",
    "    # Test the Trained Model\n",
    "    matches = tf.equal(tf.argmax(y,1),tf.argmax(y_true,1))\n",
    "    \n",
    "    acc = tf.reduce_mean(tf.cast(matches,tf.float32))\n",
    "\n",
    "    # record score\n",
    "    score = sess.run(acc,feed_dict={x:numbers_test_x[n1][n2],y_true:numbers_test_y[n1][n2]})\n",
    "    scores_list.append((n1,n2,score))    \n",
    "    \n",
    "    # output results as we go..\n",
    "    print(\"digits: {} {}  |  score: {}\".format(n1,n2,score))"
   ]
  },
  {
   "cell_type": "code",
   "execution_count": 93,
   "metadata": {},
   "outputs": [
    {
     "data": {
      "text/plain": [
       "(11185, 784)"
      ]
     },
     "execution_count": 93,
     "metadata": {},
     "output_type": "execute_result"
    }
   ],
   "source": [
    "numbers_all_x[n1][n2].shape"
   ]
  },
  {
   "cell_type": "code",
   "execution_count": 101,
   "metadata": {},
   "outputs": [
    {
     "name": "stdout",
     "output_type": "stream",
     "text": [
      "INFO:tensorflow:Restoring parameters from weights/test.ckpt\n"
     ]
    }
   ],
   "source": [
    "\n",
    "# get all cases that were misclassified in training \n",
    "n1, n2 = 2, 7\n",
    "batch, i = 10, 20\n",
    "\n",
    "wrongs = []\n",
    "numbers_all_wrong_x = [[[] for x in range(10)] for x in range(10)]\n",
    "numbers_all_wrong_y = [[[] for x in range(10)] for x in range(10)]\n",
    "\n",
    "with tf.Session() as sess:\n",
    "    saver = tf.train.Saver()\n",
    "    saver.restore(sess, 'weights/test.ckpt')\n",
    "    \n",
    "    for num in range(numbers_all_x[n1][n2].shape[0]):\n",
    "        \n",
    "        score = sess.run(acc,feed_dict={x:numbers_all_x[n1][n2][num].reshape(-1,784),y_true:numbers_all_y[n1][n2][num].reshape(-1,10)})\n",
    "        if(score!=1): \n",
    "            wrongs.append(num)\n",
    "            numbers_all_wrong_x[n1][n2].append(numbers_all_x[n1][n2][num])\n",
    "            numbers_all_wrong_y[n1][n2].append(numbers_all_y[n1][n2][num])\n"
   ]
  },
  {
   "cell_type": "code",
   "execution_count": 95,
   "metadata": {},
   "outputs": [
    {
     "data": {
      "text/plain": [
       "353"
      ]
     },
     "execution_count": 95,
     "metadata": {},
     "output_type": "execute_result"
    }
   ],
   "source": [
    "len(wrongs)"
   ]
  },
  {
   "cell_type": "code",
   "execution_count": 104,
   "metadata": {},
   "outputs": [
    {
     "data": {
      "text/plain": [
       "353"
      ]
     },
     "execution_count": 104,
     "metadata": {},
     "output_type": "execute_result"
    }
   ],
   "source": [
    "len(numbers_all_wrong_x[n1][n2])"
   ]
  },
  {
   "cell_type": "code",
   "execution_count": 110,
   "metadata": {},
   "outputs": [
    {
     "name": "stdout",
     "output_type": "stream",
     "text": [
      "digits: 2 7  |  score: 0.9603399634361267\n"
     ]
    }
   ],
   "source": [
    "\n",
    "### TRAIN only on misclassified cases \n",
    "\n",
    "scores_list = [] # this will host a sorted list of scores for an easier output and analysis at the end\n",
    "\n",
    "# loop through combos of digits and run tensorflow graph for each  \n",
    "# for n1 in range(10):\n",
    "#     for n2 in range(n1+1,10):\n",
    "\n",
    "n1 = 2\n",
    "n2 = 7\n",
    "\n",
    "with tf.Session() as sess:\n",
    "    sess.run(init)\n",
    "\n",
    "    for step in range(len(numbers_all_wrong_x[n1][n2])):\n",
    "\n",
    "        batch_x , batch_y = numbers_all_wrong_x[n1][n2][step].reshape(-1,784), numbers_all_wrong_y[n1][n2][step].reshape(-1,10)\n",
    "        sess.run(train,feed_dict={x:batch_x,y_true:batch_y})\n",
    "        \n",
    "                \n",
    "    # Test the Trained Model\n",
    "    matches = tf.equal(tf.argmax(y,1),tf.argmax(y_true,1))\n",
    "    acc = tf.reduce_mean(tf.cast(matches,tf.float32))\n",
    "\n",
    "    # record score\n",
    "    score = sess.run(acc,feed_dict={x:numbers_all_wrong_x[n1][n2],y_true:numbers_all_wrong_y[n1][n2]})\n",
    "    scores_list.append((n1,n2,score))    \n",
    "    \n",
    "    # output results as we go..\n",
    "    print(\"digits: {} {}  |  score: {}\".format(n1,n2,score))"
   ]
  },
  {
   "cell_type": "code",
   "execution_count": 62,
   "metadata": {},
   "outputs": [
    {
     "name": "stdout",
     "output_type": "stream",
     "text": [
      "[0. 0. 1. 0. 0. 0. 0. 0. 0. 0.]\n",
      "INFO:tensorflow:Restoring parameters from weights/test.ckpt\n",
      "76 score: 0.0\n",
      "pred: [[-2.2407742 -2.2407742  8.616179  -2.2407742 -2.2407742 -2.2407742\n",
      "  -2.2407742  9.309999  -2.2407742 -2.2407742]]\n"
     ]
    },
    {
     "data": {
      "image/png": "[encoded data removed]",
      "text/plain": [
       "<matplotlib.figure.Figure at 0x7fdad2a89860>"
      ]
     },
     "metadata": {},
     "output_type": "display_data"
    }
   ],
   "source": [
    "num = 76\n",
    "\n",
    "plt.imshow(numbers_x[n1][n2][batch][num].reshape(28,28))\n",
    "print(numbers_y[n1][n2][batch][num])\n",
    "\n",
    "with tf.Session() as sess:\n",
    "    saver = tf.train.Saver()\n",
    "    saver.restore(sess, 'weights/test.ckpt')\n",
    "      \n",
    "    score = sess.run(acc,feed_dict={x:numbers_x[n1][n2][batch][num].reshape(-1,784),y_true:numbers_y[n1][n2][batch][num].reshape(-1,10)})\n",
    "    pred = sess.run(y,feed_dict={x:numbers_x[n1][n2][batch][num].reshape(-1,784)})\n",
    "    print(\"{} score: {}\".format(num,score))\n",
    "    print(\"pred: {}\".format(pred))"
   ]
  },
  {
   "cell_type": "code",
   "execution_count": 69,
   "metadata": {},
   "outputs": [
    {
     "name": "stdout",
     "output_type": "stream",
     "text": [
      "8.616179466247559 9.309999465942383   diff:  0.6938199996948242\n"
     ]
    }
   ],
   "source": [
    "print(\"{} {}   diff:  {}\".format(pred[0][n1],pred[0][n2], pred[0][n2]-pred[0][n1]))"
   ]
  },
  {
   "cell_type": "code",
   "execution_count": 40,
   "metadata": {},
   "outputs": [
    {
     "name": "stdout",
     "output_type": "stream",
     "text": [
      "0\n",
      "1\n",
      "2\n",
      "3\n",
      "4\n",
      "5\n",
      "6\n",
      "7\n",
      "8\n",
      "9\n",
      "10\n",
      "11\n",
      "12\n",
      "13\n",
      "14\n",
      "15\n",
      "16\n",
      "17\n",
      "18\n",
      "19\n",
      "20\n",
      "21\n",
      "22\n",
      "23\n",
      "24\n",
      "25\n",
      "26\n",
      "27\n",
      "28\n",
      "29\n",
      "30\n",
      "31\n",
      "32\n",
      "33\n",
      "34\n",
      "35\n",
      "36\n",
      "37\n",
      "38\n",
      "39\n",
      "40\n",
      "41\n",
      "42\n",
      "43\n",
      "44\n",
      "45\n",
      "46\n",
      "47\n",
      "48\n",
      "49\n",
      "50\n",
      "51\n",
      "52\n",
      "53\n",
      "54\n",
      "55\n",
      "56\n",
      "57\n",
      "58\n",
      "59\n",
      "60\n",
      "61\n",
      "62\n",
      "63\n",
      "64\n",
      "65\n",
      "66\n",
      "67\n",
      "68\n",
      "69\n",
      "70\n",
      "71\n",
      "72\n",
      "73\n",
      "74\n",
      "75\n",
      "76\n",
      "77\n",
      "78\n",
      "79\n",
      "80\n",
      "81\n",
      "82\n",
      "83\n",
      "84\n",
      "85\n",
      "86\n",
      "87\n",
      "88\n",
      "89\n",
      "90\n",
      "91\n",
      "92\n",
      "93\n",
      "94\n",
      "95\n",
      "96\n",
      "97\n",
      "98\n",
      "99\n"
     ]
    }
   ],
   "source": [
    "for num in range(100):\n",
    "    print(num)"
   ]
  },
  {
   "cell_type": "markdown",
   "metadata": {},
   "source": [
    "# Analyze results"
   ]
  },
  {
   "cell_type": "code",
   "execution_count": 9,
   "metadata": {},
   "outputs": [],
   "source": [
    "df_scores = pd.DataFrame(scores_list, columns = ['digit_1', 'digit_2','score'])\n",
    "df_scores['simple'] = df_scores['score'].apply(lambda x: int(x*1000-900))"
   ]
  },
  {
   "cell_type": "markdown",
   "metadata": {},
   "source": [
    "## Heatmap "
   ]
  },
  {
   "cell_type": "code",
   "execution_count": 10,
   "metadata": {},
   "outputs": [],
   "source": [
    "scores_map = np.zeros([10,10])\n",
    "scores_map[:] = np.nan\n",
    "scores_map_simple = np.zeros([10,10])\n",
    "\n",
    "for index, row in df_scores.iterrows():\n",
    "    scores_map_simple[int(row['digit_1'])][int(row['digit_2'])] = row['simple']\n",
    "    \n",
    "    scores_map[int(row['digit_1'])][int(row['digit_2'])] = row['score']\n",
    "    scores_map[int(row['digit_2'])][int(row['digit_1'])] = row['score']\n",
    "\n",
    "scores_map_simple = scores_map_simple.T"
   ]
  },
  {
   "cell_type": "code",
   "execution_count": 11,
   "metadata": {},
   "outputs": [
    {
     "data": {
      "image/png": "[encoded data removed]",
      "text/plain": [
       "<matplotlib.figure.Figure at 0x7fdad71a25c0>"
      ]
     },
     "metadata": {},
     "output_type": "display_data"
    }
   ],
   "source": [
    "mask = scores_map_simple == 0\n",
    "ax = sns.heatmap(scores_map_simple, annot=True, mask = mask)"
   ]
  },
  {
   "cell_type": "code",
   "execution_count": 12,
   "metadata": {},
   "outputs": [],
   "source": [
    "scores_list = []\n",
    "for index, row in df_scores.iterrows():\n",
    "    scores_list.append((\"{}  {}\".format(int(row['digit_1']),int(row['digit_2'])),row['score']))\n",
    "scores_df = pd.DataFrame(scores_list, columns = ['digits', 'score']).set_index('digits')"
   ]
  },
  {
   "cell_type": "markdown",
   "metadata": {},
   "source": [
    "## Winners and Loosers"
   ]
  },
  {
   "cell_type": "code",
   "execution_count": 13,
   "metadata": {},
   "outputs": [
    {
     "data": {
      "text/html": [
       "<div>\n",
       "<style scoped>\n",
       "    .dataframe tbody tr th:only-of-type {\n",
       "        vertical-align: middle;\n",
       "    }\n",
       "\n",
       "    .dataframe tbody tr th {\n",
       "        vertical-align: top;\n",
       "    }\n",
       "\n",
       "    .dataframe thead th {\n",
       "        text-align: right;\n",
       "    }\n",
       "</style>\n",
       "<table border=\"1\" class=\"dataframe\">\n",
       "  <thead>\n",
       "    <tr style=\"text-align: right;\">\n",
       "      <th></th>\n",
       "      <th>score</th>\n",
       "    </tr>\n",
       "    <tr>\n",
       "      <th>digits</th>\n",
       "      <th></th>\n",
       "    </tr>\n",
       "  </thead>\n",
       "  <tbody>\n",
       "    <tr>\n",
       "      <th>2  7</th>\n",
       "      <td>0.968447</td>\n",
       "    </tr>\n",
       "  </tbody>\n",
       "</table>\n",
       "</div>"
      ],
      "text/plain": [
       "           score\n",
       "digits          \n",
       "2  7    0.968447"
      ]
     },
     "execution_count": 13,
     "metadata": {},
     "output_type": "execute_result"
    }
   ],
   "source": [
    "scores_df.sort_values('score', ascending = False).head(10)"
   ]
  },
  {
   "cell_type": "code",
   "execution_count": 14,
   "metadata": {},
   "outputs": [
    {
     "data": {
      "text/html": [
       "<div>\n",
       "<style scoped>\n",
       "    .dataframe tbody tr th:only-of-type {\n",
       "        vertical-align: middle;\n",
       "    }\n",
       "\n",
       "    .dataframe tbody tr th {\n",
       "        vertical-align: top;\n",
       "    }\n",
       "\n",
       "    .dataframe thead th {\n",
       "        text-align: right;\n",
       "    }\n",
       "</style>\n",
       "<table border=\"1\" class=\"dataframe\">\n",
       "  <thead>\n",
       "    <tr style=\"text-align: right;\">\n",
       "      <th></th>\n",
       "      <th>score</th>\n",
       "    </tr>\n",
       "    <tr>\n",
       "      <th>digits</th>\n",
       "      <th></th>\n",
       "    </tr>\n",
       "  </thead>\n",
       "  <tbody>\n",
       "    <tr>\n",
       "      <th>2  7</th>\n",
       "      <td>0.968447</td>\n",
       "    </tr>\n",
       "  </tbody>\n",
       "</table>\n",
       "</div>"
      ],
      "text/plain": [
       "           score\n",
       "digits          \n",
       "2  7    0.968447"
      ]
     },
     "execution_count": 14,
     "metadata": {},
     "output_type": "execute_result"
    }
   ],
   "source": [
    "scores_df.sort_values('score').head(10)"
   ]
  },
  {
   "cell_type": "code",
   "execution_count": 15,
   "metadata": {},
   "outputs": [
    {
     "data": {
      "text/plain": [
       "7    0.968447\n",
       "2    0.968447\n",
       "0         NaN\n",
       "1         NaN\n",
       "3         NaN\n",
       "4         NaN\n",
       "5         NaN\n",
       "6         NaN\n",
       "8         NaN\n",
       "9         NaN\n",
       "dtype: float64"
      ]
     },
     "execution_count": 15,
     "metadata": {},
     "output_type": "execute_result"
    }
   ],
   "source": [
    "pd.DataFrame(scores_map).mean().sort_values(ascending = False)"
   ]
  }
 ],
 "metadata": {
  "kernelspec": {
   "display_name": "Python 3",
   "language": "python",
   "name": "python3"
  },
  "language_info": {
   "codemirror_mode": {
    "name": "ipython",
    "version": 3
   },
   "file_extension": ".py",
   "mimetype": "text/x-python",
   "name": "python",
   "nbconvert_exporter": "python",
   "pygments_lexer": "ipython3",
   "version": "3.6.4"
  }
 },
 "nbformat": 4,
 "nbformat_minor": 2
}
