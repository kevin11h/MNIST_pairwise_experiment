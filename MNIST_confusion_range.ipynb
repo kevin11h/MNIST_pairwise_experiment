{
 "cells": [
  {
   "cell_type": "markdown",
   "metadata": {
    "collapsed": true
   },
   "source": [
    "# MNIST: exploring the \"confusion\" range of failed classifications"
   ]
  },
  {
   "cell_type": "markdown",
   "metadata": {},
   "source": [
    " ##### QUESTION: What is the distance of weight values for two top predicted classes and is there a correlation bwtween that distance and cases when net is correct vs. wrong?\n",
    " \n",
    " The purpose of this work is to explore such cases when a simple NN fails to classify digits correctly on MNIST dataset and to see if there is an identifiable pattern in prediction weights it produces in such cases that could signal that network is \"confused\" or unsure about which class to assign to a digit it \"sees\".\n",
    " \n",
    " Indeed, at the end of this notebook we see that when two or more neurons of final layer fire with weights values that are very close to each other, the chances are, we have an incorrect answer. "
   ]
  },
  {
   "cell_type": "code",
   "execution_count": 263,
   "metadata": {},
   "outputs": [],
   "source": [
    "import tensorflow as tf\n",
    "import pandas as pd\n",
    "import seaborn as sns\n",
    "import matplotlib.pyplot as plt\n",
    "from tensorflow.examples.tutorials.mnist import input_data\n",
    "\n",
    "%matplotlib inline"
   ]
  },
  {
   "cell_type": "code",
   "execution_count": 264,
   "metadata": {},
   "outputs": [
    {
     "name": "stdout",
     "output_type": "stream",
     "text": [
      "Extracting MNIST_data/train-images-idx3-ubyte.gz\n",
      "Extracting MNIST_data/train-labels-idx1-ubyte.gz\n",
      "Extracting MNIST_data/t10k-images-idx3-ubyte.gz\n",
      "Extracting MNIST_data/t10k-labels-idx1-ubyte.gz\n"
     ]
    }
   ],
   "source": [
    "#load MNIST data\n",
    "mnist = input_data.read_data_sets(\"MNIST_data/\",one_hot=True, seed = 42)"
   ]
  },
  {
   "cell_type": "code",
   "execution_count": 276,
   "metadata": {},
   "outputs": [
    {
     "data": {
      "text/plain": [
       "<matplotlib.image.AxesImage at 0x7f08b7a09cc0>"
      ]
     },
     "execution_count": 276,
     "metadata": {},
     "output_type": "execute_result"
    },
    {
     "data": {
      "image/png": "[encoded data removed]",
      "text/plain": [
       "<matplotlib.figure.Figure at 0x7f08b72f3b70>"
      ]
     },
     "metadata": {},
     "output_type": "display_data"
    }
   ],
   "source": [
    "#quick sanity check\n",
    "plt.imshow(mnist.train.images[99].reshape(28,28),cmap='gist_gray')"
   ]
  },
  {
   "cell_type": "markdown",
   "metadata": {},
   "source": [
    "#### Is this 7 or 9? \n",
    "This is one of the cases in MNIST dataset where simple NN would fail to give a correct answer (in this case it will declare this to be 7).\n",
    "What we will see at the end of this exploration that indeed both 7 and 9 classes have fired with weights that are much closer to each other statistically then in cases when network is quite sure about hte answer. \n",
    "\n",
    "(note: if you run this notebook, you might get a different digit/image at that index)"
   ]
  },
  {
   "cell_type": "markdown",
   "metadata": {},
   "source": [
    "## Train a simple NN using Tensorflow\n",
    "\n",
    "#### First, we are going to build a very simple neural net with just one layer using tensorflow"
   ]
  },
  {
   "cell_type": "code",
   "execution_count": 266,
   "metadata": {},
   "outputs": [],
   "source": [
    "# set up tensorflow variables\n",
    "x = tf.placeholder(tf.float32,shape=[None,784])\n",
    "W = tf.Variable(tf.zeros([784,10]))\n",
    "b = tf.Variable(tf.zeros([10]))\n",
    "\n",
    "# create the graph\n",
    "y = tf.matmul(x,W) + b \n",
    "y_true = tf.placeholder(tf.float32,[None,10])\n",
    "\n",
    "# final touches\n",
    "cross_entropy = tf.reduce_mean(tf.nn.softmax_cross_entropy_with_logits_v2(labels=y_true, logits=y))\n",
    "optimizer = tf.train.GradientDescentOptimizer(learning_rate=0.5)\n",
    "\n",
    "train = optimizer.minimize(cross_entropy)"
   ]
  },
  {
   "cell_type": "markdown",
   "metadata": {},
   "source": [
    "### Train the net and record results\n",
    "\n",
    "Because I want to take a look at each failed case separately I am going to train the network on a full MNIST train set in one swoop and save it. In the following steps we will load our model and then iterattively show each trained example again to collect more information about the failed cases."
   ]
  },
  {
   "cell_type": "code",
   "execution_count": 267,
   "metadata": {},
   "outputs": [
    {
     "name": "stdout",
     "output_type": "stream",
     "text": [
      "0.907\n"
     ]
    }
   ],
   "source": [
    "init = tf.global_variables_initializer()\n",
    "\n",
    "with tf.Session() as sess:\n",
    "    sess.run(init)\n",
    "\n",
    "    for step in range(1000):\n",
    "        \n",
    "        batch_x , batch_y = mnist.train.next_batch(100)\n",
    "        sess.run(train,feed_dict={x:batch_x,y_true:batch_y})\n",
    "    \n",
    "    # collecting results | yes, we are showing train results to our network again, not test ones. \n",
    "    # This is because we want to see which ones are \"wrong\"\n",
    "    pred = sess.run(y,feed_dict={x:mnist.train.images,y_true:mnist.train.labels})\n",
    "\n",
    "    # a quick check to see how our simple net is doing when shown test data\n",
    "    matches = tf.equal(tf.argmax(y,1),tf.argmax(y_true,1))\n",
    "    acc = tf.reduce_mean(tf.cast(matches,tf.float32))\n",
    "    print(sess.run(acc,feed_dict={x:mnist.test.images,y_true:mnist.test.labels})); # uncomment ; to see results during training"
   ]
  },
  {
   "cell_type": "markdown",
   "metadata": {},
   "source": [
    "### Now let's gather information about top to classes that fired in output layer"
   ]
  },
  {
   "cell_type": "code",
   "execution_count": 268,
   "metadata": {},
   "outputs": [],
   "source": [
    "\n",
    "# don't mind all the commented stuff. I was curious to look 'deeper' into which classes fire and might come back to this later.\n",
    "# for now, we are going to be looking only at top 2 predictions\n",
    "\n",
    "#we're going to be anulling values of argmax to extract each consecutive results value, co we'll do taht on a copy\n",
    "pred_copy = pred.copy()\n",
    "\n",
    "results = {}\n",
    "results['1_arg'] = []\n",
    "results['1_weight'] = []\n",
    "results['2_arg'] = []\n",
    "results['2_weight'] = []\n",
    "# results['3_arg'] = []\n",
    "# results['3_weight'] = []\n",
    "# results['4_arg'] = []\n",
    "# results['4_weight'] = []\n",
    "\n",
    "\n",
    "for i in range(pred_copy.shape[0]):\n",
    "\n",
    "    # get first results prediction                 \n",
    "    results['1_arg'].append(pred_copy[i].argmax())\n",
    "    results['1_weight'].append(pred_copy[i][results['1_arg'][i]])\n",
    "\n",
    "    #reset it in the list                \n",
    "    pred_copy[i][results['1_arg'][i]] = 0\n",
    "\n",
    "    # now, get second results prediction                \n",
    "    results['2_arg'].append(pred_copy[i].argmax())\n",
    "    results['2_weight'].append(pred_copy[i][results['2_arg'][i]])     \n",
    "    \n",
    "#     pred_copy[i][results['2_arg'][i]] = 0\n",
    "\n",
    "#     results['3_arg'].append(pred_copy[i].argmax())\n",
    "#     results['3_weight'].append(pred_copy[i][results['3_arg'][i]]) \n",
    "         \n",
    "#     pred_copy[i][results['3_arg'][i]] = 0\n",
    "    \n",
    "#     results['4_arg'].append(pred_copy[i].argmax())\n",
    "#     results['4_weight'].append(pred_copy[i][results['4_arg'][i]])  \n"
   ]
  },
  {
   "cell_type": "markdown",
   "metadata": {},
   "source": [
    "#### Next, lets add info about which class was predicted and whether net got it right or wrong"
   ]
  },
  {
   "cell_type": "code",
   "execution_count": 269,
   "metadata": {},
   "outputs": [
    {
     "data": {
      "text/html": [
       "<div>\n",
       "<style scoped>\n",
       "    .dataframe tbody tr th:only-of-type {\n",
       "        vertical-align: middle;\n",
       "    }\n",
       "\n",
       "    .dataframe tbody tr th {\n",
       "        vertical-align: top;\n",
       "    }\n",
       "\n",
       "    .dataframe thead th {\n",
       "        text-align: right;\n",
       "    }\n",
       "</style>\n",
       "<table border=\"1\" class=\"dataframe\">\n",
       "  <thead>\n",
       "    <tr style=\"text-align: right;\">\n",
       "      <th></th>\n",
       "      <th>1_arg</th>\n",
       "      <th>1_weight</th>\n",
       "      <th>2_arg</th>\n",
       "      <th>2_weight</th>\n",
       "      <th>Y_hat</th>\n",
       "      <th>Y</th>\n",
       "      <th>correct</th>\n",
       "    </tr>\n",
       "  </thead>\n",
       "  <tbody>\n",
       "    <tr>\n",
       "      <th>0</th>\n",
       "      <td>6</td>\n",
       "      <td>8.687561</td>\n",
       "      <td>5</td>\n",
       "      <td>5.337316</td>\n",
       "      <td>6</td>\n",
       "      <td>6</td>\n",
       "      <td>True</td>\n",
       "    </tr>\n",
       "    <tr>\n",
       "      <th>1</th>\n",
       "      <td>6</td>\n",
       "      <td>11.023166</td>\n",
       "      <td>2</td>\n",
       "      <td>4.584312</td>\n",
       "      <td>6</td>\n",
       "      <td>6</td>\n",
       "      <td>True</td>\n",
       "    </tr>\n",
       "    <tr>\n",
       "      <th>2</th>\n",
       "      <td>5</td>\n",
       "      <td>5.572421</td>\n",
       "      <td>0</td>\n",
       "      <td>5.334924</td>\n",
       "      <td>5</td>\n",
       "      <td>3</td>\n",
       "      <td>False</td>\n",
       "    </tr>\n",
       "    <tr>\n",
       "      <th>3</th>\n",
       "      <td>9</td>\n",
       "      <td>8.987921</td>\n",
       "      <td>7</td>\n",
       "      <td>5.095157</td>\n",
       "      <td>9</td>\n",
       "      <td>9</td>\n",
       "      <td>True</td>\n",
       "    </tr>\n",
       "    <tr>\n",
       "      <th>4</th>\n",
       "      <td>3</td>\n",
       "      <td>10.909310</td>\n",
       "      <td>5</td>\n",
       "      <td>6.751018</td>\n",
       "      <td>3</td>\n",
       "      <td>3</td>\n",
       "      <td>True</td>\n",
       "    </tr>\n",
       "  </tbody>\n",
       "</table>\n",
       "</div>"
      ],
      "text/plain": [
       "   1_arg   1_weight  2_arg  2_weight  Y_hat  Y  correct\n",
       "0      6   8.687561      5  5.337316      6  6     True\n",
       "1      6  11.023166      2  4.584312      6  6     True\n",
       "2      5   5.572421      0  5.334924      5  3    False\n",
       "3      9   8.987921      7  5.095157      9  9     True\n",
       "4      3  10.909310      5  6.751018      3  3     True"
      ]
     },
     "execution_count": 269,
     "metadata": {},
     "output_type": "execute_result"
    }
   ],
   "source": [
    "#### Lets put all that into a pandas dataframe. It will be easier to manipulate and analyze results this way\n",
    "\n",
    "results = pd.DataFrame(results)\n",
    "pred_df = pd.DataFrame(pred)\n",
    "\n",
    "results['Y_hat'] = pd.Series([x.argmax() for x in pred]) # predicted class\n",
    "results['Y'] = pd.Series([x.argmax() for x in mnist.train.labels]) # truth\n",
    "results['correct'] = results['Y']==results['Y_hat'] # do they match?\n",
    "\n",
    "# OK. here is what the table of all our prediction looks like at this point.\n",
    "results.head()"
   ]
  },
  {
   "cell_type": "markdown",
   "metadata": {},
   "source": [
    "####  A side experiment:\n",
    "I am really curious to see how many neurons/classes have fired positively for a given case; this could be interresting in relation to detecting our \"confusion\" cases"
   ]
  },
  {
   "cell_type": "code",
   "execution_count": 270,
   "metadata": {},
   "outputs": [
    {
     "data": {
      "text/html": [
       "<div>\n",
       "<style scoped>\n",
       "    .dataframe tbody tr th:only-of-type {\n",
       "        vertical-align: middle;\n",
       "    }\n",
       "\n",
       "    .dataframe tbody tr th {\n",
       "        vertical-align: top;\n",
       "    }\n",
       "\n",
       "    .dataframe thead th {\n",
       "        text-align: right;\n",
       "    }\n",
       "</style>\n",
       "<table border=\"1\" class=\"dataframe\">\n",
       "  <thead>\n",
       "    <tr style=\"text-align: right;\">\n",
       "      <th></th>\n",
       "      <th>0</th>\n",
       "      <th>1</th>\n",
       "      <th>2</th>\n",
       "      <th>3</th>\n",
       "      <th>4</th>\n",
       "      <th>5</th>\n",
       "      <th>6</th>\n",
       "      <th>7</th>\n",
       "      <th>8</th>\n",
       "      <th>9</th>\n",
       "    </tr>\n",
       "  </thead>\n",
       "  <tbody>\n",
       "    <tr>\n",
       "      <th>0</th>\n",
       "      <td>1</td>\n",
       "      <td>0</td>\n",
       "      <td>0</td>\n",
       "      <td>0</td>\n",
       "      <td>0</td>\n",
       "      <td>1</td>\n",
       "      <td>1</td>\n",
       "      <td>0</td>\n",
       "      <td>1</td>\n",
       "      <td>0</td>\n",
       "    </tr>\n",
       "    <tr>\n",
       "      <th>1</th>\n",
       "      <td>0</td>\n",
       "      <td>0</td>\n",
       "      <td>1</td>\n",
       "      <td>0</td>\n",
       "      <td>1</td>\n",
       "      <td>1</td>\n",
       "      <td>1</td>\n",
       "      <td>0</td>\n",
       "      <td>1</td>\n",
       "      <td>1</td>\n",
       "    </tr>\n",
       "    <tr>\n",
       "      <th>2</th>\n",
       "      <td>1</td>\n",
       "      <td>0</td>\n",
       "      <td>0</td>\n",
       "      <td>1</td>\n",
       "      <td>0</td>\n",
       "      <td>1</td>\n",
       "      <td>1</td>\n",
       "      <td>0</td>\n",
       "      <td>0</td>\n",
       "      <td>0</td>\n",
       "    </tr>\n",
       "    <tr>\n",
       "      <th>3</th>\n",
       "      <td>0</td>\n",
       "      <td>0</td>\n",
       "      <td>0</td>\n",
       "      <td>1</td>\n",
       "      <td>1</td>\n",
       "      <td>1</td>\n",
       "      <td>0</td>\n",
       "      <td>1</td>\n",
       "      <td>1</td>\n",
       "      <td>1</td>\n",
       "    </tr>\n",
       "    <tr>\n",
       "      <th>4</th>\n",
       "      <td>1</td>\n",
       "      <td>0</td>\n",
       "      <td>0</td>\n",
       "      <td>1</td>\n",
       "      <td>0</td>\n",
       "      <td>1</td>\n",
       "      <td>0</td>\n",
       "      <td>1</td>\n",
       "      <td>0</td>\n",
       "      <td>0</td>\n",
       "    </tr>\n",
       "  </tbody>\n",
       "</table>\n",
       "</div>"
      ],
      "text/plain": [
       "   0  1  2  3  4  5  6  7  8  9\n",
       "0  1  0  0  0  0  1  1  0  1  0\n",
       "1  0  0  1  0  1  1  1  0  1  1\n",
       "2  1  0  0  1  0  1  1  0  0  0\n",
       "3  0  0  0  1  1  1  0  1  1  1\n",
       "4  1  0  0  1  0  1  0  1  0  0"
      ]
     },
     "execution_count": 270,
     "metadata": {},
     "output_type": "execute_result"
    }
   ],
   "source": [
    "pred = pd.DataFrame(pred)\n",
    "pos = pred.apply(lambda x: [1 if y>0 else 0 for y in x], axis = 1)\n",
    "pos.head()"
   ]
  },
  {
   "cell_type": "code",
   "execution_count": 271,
   "metadata": {},
   "outputs": [
    {
     "data": {
      "text/html": [
       "<div>\n",
       "<style scoped>\n",
       "    .dataframe tbody tr th:only-of-type {\n",
       "        vertical-align: middle;\n",
       "    }\n",
       "\n",
       "    .dataframe tbody tr th {\n",
       "        vertical-align: top;\n",
       "    }\n",
       "\n",
       "    .dataframe thead th {\n",
       "        text-align: right;\n",
       "    }\n",
       "</style>\n",
       "<table border=\"1\" class=\"dataframe\">\n",
       "  <thead>\n",
       "    <tr style=\"text-align: right;\">\n",
       "      <th></th>\n",
       "      <th>1_arg</th>\n",
       "      <th>1_weight</th>\n",
       "      <th>2_arg</th>\n",
       "      <th>2_weight</th>\n",
       "      <th>Y_hat</th>\n",
       "      <th>Y</th>\n",
       "      <th>correct</th>\n",
       "      <th>count</th>\n",
       "    </tr>\n",
       "  </thead>\n",
       "  <tbody>\n",
       "    <tr>\n",
       "      <th>0</th>\n",
       "      <td>6</td>\n",
       "      <td>8.687561</td>\n",
       "      <td>5</td>\n",
       "      <td>5.337316</td>\n",
       "      <td>6</td>\n",
       "      <td>6</td>\n",
       "      <td>True</td>\n",
       "      <td>4</td>\n",
       "    </tr>\n",
       "    <tr>\n",
       "      <th>1</th>\n",
       "      <td>6</td>\n",
       "      <td>11.023166</td>\n",
       "      <td>2</td>\n",
       "      <td>4.584312</td>\n",
       "      <td>6</td>\n",
       "      <td>6</td>\n",
       "      <td>True</td>\n",
       "      <td>6</td>\n",
       "    </tr>\n",
       "    <tr>\n",
       "      <th>2</th>\n",
       "      <td>5</td>\n",
       "      <td>5.572421</td>\n",
       "      <td>0</td>\n",
       "      <td>5.334924</td>\n",
       "      <td>5</td>\n",
       "      <td>3</td>\n",
       "      <td>False</td>\n",
       "      <td>4</td>\n",
       "    </tr>\n",
       "    <tr>\n",
       "      <th>3</th>\n",
       "      <td>9</td>\n",
       "      <td>8.987921</td>\n",
       "      <td>7</td>\n",
       "      <td>5.095157</td>\n",
       "      <td>9</td>\n",
       "      <td>9</td>\n",
       "      <td>True</td>\n",
       "      <td>6</td>\n",
       "    </tr>\n",
       "    <tr>\n",
       "      <th>4</th>\n",
       "      <td>3</td>\n",
       "      <td>10.909310</td>\n",
       "      <td>5</td>\n",
       "      <td>6.751018</td>\n",
       "      <td>3</td>\n",
       "      <td>3</td>\n",
       "      <td>True</td>\n",
       "      <td>4</td>\n",
       "    </tr>\n",
       "  </tbody>\n",
       "</table>\n",
       "</div>"
      ],
      "text/plain": [
       "   1_arg   1_weight  2_arg  2_weight  Y_hat  Y  correct  count\n",
       "0      6   8.687561      5  5.337316      6  6     True      4\n",
       "1      6  11.023166      2  4.584312      6  6     True      6\n",
       "2      5   5.572421      0  5.334924      5  3    False      4\n",
       "3      9   8.987921      7  5.095157      9  9     True      6\n",
       "4      3  10.909310      5  6.751018      3  3     True      4"
      ]
     },
     "execution_count": 271,
     "metadata": {},
     "output_type": "execute_result"
    }
   ],
   "source": [
    "# now let's count them and put it back to our dataframe\n",
    "results['count'] = pos.T.sum()\n",
    "results.head()"
   ]
  },
  {
   "cell_type": "markdown",
   "metadata": {},
   "source": [
    "#### Now let's take a look at what we got"
   ]
  },
  {
   "cell_type": "code",
   "execution_count": 272,
   "metadata": {},
   "outputs": [
    {
     "data": {
      "text/plain": [
       "<matplotlib.axes._subplots.AxesSubplot at 0x7f08b72e4a90>"
      ]
     },
     "execution_count": 272,
     "metadata": {},
     "output_type": "execute_result"
    },
    {
     "data": {
      "image/png": "[encoded data removed]",
      "text/plain": [
       "<matplotlib.figure.Figure at 0x7f08c8f8cf60>"
      ]
     },
     "metadata": {},
     "output_type": "display_data"
    }
   ],
   "source": [
    "sns.countplot(x=\"count\", data=results, hue=\"correct\")"
   ]
  },
  {
   "cell_type": "markdown",
   "metadata": {},
   "source": [
    "#### Analysis: \n",
    "\n",
    "1. In most cases on average of 5 (or half) classes fire positively in the output layer.\n",
    "2. There really seem to be no apparent correlation between how many classes fire positively and whether answer is correct or not. \n",
    "3. The interresting finding here is that network always fires positively on at least two classes. There are absolutely no cases where only one output neuron produces a positive result. Same thing for the count of negative weights. Interresting. "
   ]
  },
  {
   "cell_type": "markdown",
   "metadata": {},
   "source": [
    "### Now, here comes the part we all are here for!\n",
    "\n",
    "Let's take a look at how close the weight of top two predictions are and if there is any correlation there with accounts of failed cases"
   ]
  },
  {
   "cell_type": "code",
   "execution_count": 273,
   "metadata": {},
   "outputs": [
    {
     "data": {
      "text/html": [
       "<div>\n",
       "<style scoped>\n",
       "    .dataframe tbody tr th:only-of-type {\n",
       "        vertical-align: middle;\n",
       "    }\n",
       "\n",
       "    .dataframe tbody tr th {\n",
       "        vertical-align: top;\n",
       "    }\n",
       "\n",
       "    .dataframe thead th {\n",
       "        text-align: right;\n",
       "    }\n",
       "</style>\n",
       "<table border=\"1\" class=\"dataframe\">\n",
       "  <thead>\n",
       "    <tr style=\"text-align: right;\">\n",
       "      <th></th>\n",
       "      <th>1_arg</th>\n",
       "      <th>1_weight</th>\n",
       "      <th>2_arg</th>\n",
       "      <th>2_weight</th>\n",
       "      <th>Y_hat</th>\n",
       "      <th>Y</th>\n",
       "      <th>correct</th>\n",
       "      <th>count</th>\n",
       "      <th>diff</th>\n",
       "    </tr>\n",
       "  </thead>\n",
       "  <tbody>\n",
       "    <tr>\n",
       "      <th>0</th>\n",
       "      <td>6</td>\n",
       "      <td>8.687561</td>\n",
       "      <td>5</td>\n",
       "      <td>5.337316</td>\n",
       "      <td>6</td>\n",
       "      <td>6</td>\n",
       "      <td>True</td>\n",
       "      <td>4</td>\n",
       "      <td>3.350245</td>\n",
       "    </tr>\n",
       "    <tr>\n",
       "      <th>1</th>\n",
       "      <td>6</td>\n",
       "      <td>11.023166</td>\n",
       "      <td>2</td>\n",
       "      <td>4.584312</td>\n",
       "      <td>6</td>\n",
       "      <td>6</td>\n",
       "      <td>True</td>\n",
       "      <td>6</td>\n",
       "      <td>6.438853</td>\n",
       "    </tr>\n",
       "    <tr>\n",
       "      <th>2</th>\n",
       "      <td>5</td>\n",
       "      <td>5.572421</td>\n",
       "      <td>0</td>\n",
       "      <td>5.334924</td>\n",
       "      <td>5</td>\n",
       "      <td>3</td>\n",
       "      <td>False</td>\n",
       "      <td>4</td>\n",
       "      <td>0.237497</td>\n",
       "    </tr>\n",
       "    <tr>\n",
       "      <th>3</th>\n",
       "      <td>9</td>\n",
       "      <td>8.987921</td>\n",
       "      <td>7</td>\n",
       "      <td>5.095157</td>\n",
       "      <td>9</td>\n",
       "      <td>9</td>\n",
       "      <td>True</td>\n",
       "      <td>6</td>\n",
       "      <td>3.892764</td>\n",
       "    </tr>\n",
       "    <tr>\n",
       "      <th>4</th>\n",
       "      <td>3</td>\n",
       "      <td>10.909310</td>\n",
       "      <td>5</td>\n",
       "      <td>6.751018</td>\n",
       "      <td>3</td>\n",
       "      <td>3</td>\n",
       "      <td>True</td>\n",
       "      <td>4</td>\n",
       "      <td>4.158292</td>\n",
       "    </tr>\n",
       "  </tbody>\n",
       "</table>\n",
       "</div>"
      ],
      "text/plain": [
       "   1_arg   1_weight  2_arg  2_weight  Y_hat  Y  correct  count      diff\n",
       "0      6   8.687561      5  5.337316      6  6     True      4  3.350245\n",
       "1      6  11.023166      2  4.584312      6  6     True      6  6.438853\n",
       "2      5   5.572421      0  5.334924      5  3    False      4  0.237497\n",
       "3      9   8.987921      7  5.095157      9  9     True      6  3.892764\n",
       "4      3  10.909310      5  6.751018      3  3     True      4  4.158292"
      ]
     },
     "execution_count": 273,
     "metadata": {},
     "output_type": "execute_result"
    }
   ],
   "source": [
    "results['diff'] = abs(results['1_weight'] - results['2_weight'])\n",
    "results.head()"
   ]
  },
  {
   "cell_type": "code",
   "execution_count": 274,
   "metadata": {},
   "outputs": [
    {
     "data": {
      "image/png": "[encoded data removed]",
      "text/plain": [
       "<matplotlib.figure.Figure at 0x7f08b8107080>"
      ]
     },
     "metadata": {},
     "output_type": "display_data"
    }
   ],
   "source": [
    "correct = results[results['correct']==True]\n",
    "wrong = results[results['correct']==False]\n",
    "\n",
    "sns.kdeplot(correct['diff'], label=\"correct\")\n",
    "sns.kdeplot(wrong['diff'], label=\"wrong\")\n",
    "plt.legend();"
   ]
  },
  {
   "cell_type": "markdown",
   "metadata": {},
   "source": [
    "### Perfect! \n",
    "In the graph above we can clearly see that when weights of top two predicted classes are very close to each other, the chances are, our net is getting it wrong, or in other words, is being \"confused\" by a certain image of a digit. It looks like most cases where weigts differ by less than 2.5 we most likely have a wrong results. \n",
    "\n",
    "This <2.5 diff is what I call a \"confusion range\"\n",
    "\n",
    "Q.E.D. \n",
    "\n",
    "In my next work I am going to attemp to \"de-confuse\" our network by making it \"look closer\" at a digit when output weighs are in this confusion range"
   ]
  }
 ],
 "metadata": {
  "kernelspec": {
   "display_name": "Python 3",
   "language": "python",
   "name": "python3"
  },
  "language_info": {
   "codemirror_mode": {
    "name": "ipython",
    "version": 3
   },
   "file_extension": ".py",
   "mimetype": "text/x-python",
   "name": "python",
   "nbconvert_exporter": "python",
   "pygments_lexer": "ipython3",
   "version": "3.6.4"
  }
 },
 "nbformat": 4,
 "nbformat_minor": 2
}
