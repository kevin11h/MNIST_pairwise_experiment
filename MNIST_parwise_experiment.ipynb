{
 "cells": [
  {
   "cell_type": "markdown",
   "metadata": {
    "collapsed": true
   },
   "source": [
    "# Experiment in pairwise MNIST digits training with Tensorflow"
   ]
  },
  {
   "cell_type": "code",
   "execution_count": 1,
   "metadata": {},
   "outputs": [
    {
     "name": "stderr",
     "output_type": "stream",
     "text": [
      "/home/playadust/anaconda3/lib/python3.6/site-packages/h5py/__init__.py:36: FutureWarning: Conversion of the second argument of issubdtype from `float` to `np.floating` is deprecated. In future, it will be treated as `np.float64 == np.dtype(float).type`.\n",
      "  from ._conv import register_converters as _register_converters\n"
     ]
    }
   ],
   "source": [
    "import tensorflow as tf\n",
    "import numpy as np\n",
    "from sklearn.preprocessing import MinMaxScaler\n",
    "from tensorflow.examples.tutorials.mnist import input_data\n",
    "\n",
    "import pandas as pd\n",
    "import numpy as np; np.random.seed(0)\n",
    "import seaborn as sns; sns.set()\n",
    "\n",
    "%matplotlib inline\n",
    "\n",
    "import matplotlib.pyplot as plt\n",
    "%matplotlib inline"
   ]
  },
  {
   "cell_type": "code",
   "execution_count": 2,
   "metadata": {},
   "outputs": [
    {
     "name": "stdout",
     "output_type": "stream",
     "text": [
      "Successfully downloaded train-images-idx3-ubyte.gz 9912422 bytes.\n",
      "Extracting MNIST_data/train-images-idx3-ubyte.gz\n",
      "Successfully downloaded train-labels-idx1-ubyte.gz 28881 bytes.\n",
      "Extracting MNIST_data/train-labels-idx1-ubyte.gz\n",
      "Successfully downloaded t10k-images-idx3-ubyte.gz 1648877 bytes.\n",
      "Extracting MNIST_data/t10k-images-idx3-ubyte.gz\n",
      "Successfully downloaded t10k-labels-idx1-ubyte.gz 4542 bytes.\n",
      "Extracting MNIST_data/t10k-labels-idx1-ubyte.gz\n"
     ]
    }
   ],
   "source": [
    "mnist = input_data.read_data_sets(\"MNIST_data/\",one_hot=True)"
   ]
  },
  {
   "cell_type": "code",
   "execution_count": 3,
   "metadata": {},
   "outputs": [],
   "source": [
    "# create empty 'containers' to store train and test sets for number pairs\n",
    "\n",
    "numbers_x = [[[] for x in range(10)] for x in range(10)]\n",
    "numbers_y = [[[] for x in range(10)] for x in range(10)]\n",
    "\n",
    "numbers_test_x = [[[] for x in range(10)] for x in range(10)]\n",
    "numbers_test_y = [[[] for x in range(10)] for x in range(10)]"
   ]
  },
  {
   "cell_type": "code",
   "execution_count": 4,
   "metadata": {},
   "outputs": [],
   "source": [
    "for n1 in range(10):\n",
    "    for n2 in range(n1+1,10):\n",
    "                \n",
    "        ## -- extract IMAGES\n",
    "\n",
    "        # MNIST mask for first digit \n",
    "        mask = mnist.train.labels[:] == [1 if x==n1 else 0 for x in range(10)]\n",
    "        m1 = [True if x.sum()==10 else False for x in mask]\n",
    "\n",
    "        # MNIST mask for second digit \n",
    "        mask = mnist.train.labels[:] == [1 if x==n2 else 0 for x in range(10)]\n",
    "        m2 = [True if x.sum()==10 else False for x in mask]\n",
    "\n",
    "        # combine masks\n",
    "        msk = [a+b>0 for a,b in zip(m1,m2)]\n",
    "        \n",
    "        # apply masks\n",
    "        numbers_images = mnist.train.images[msk]\n",
    "        numbers_labels = mnist.train.labels[msk]\n",
    "        \n",
    "        # original MNIST object has next_batch, which we cannot use now that we're packing \n",
    "        # filtered data into an array format, so we're going to break it here into 100 batches\n",
    "        numbers_x[n1][n2] = numbers_images[:10000].reshape([100,100,784])\n",
    "        numbers_y[n1][n2] = numbers_labels[:10000].reshape([100,100,10])\n",
    "       \n",
    "        ## -- extract LABELS\n",
    "        \n",
    "        mask = mnist.test.labels[:] == [1 if x==n1 else 0 for x in range(10)]\n",
    "        m1 = [True if x.sum()==10 else False for x in mask]\n",
    "\n",
    "        mask = mnist.test.labels[:] == [1 if x==n2 else 0 for x in range(10)]\n",
    "        m2 = [True if x.sum()==10 else False for x in mask]\n",
    "\n",
    "        msk = [a+b>0 for a,b in zip(m1,m2)]\n",
    "\n",
    "        numbers_test_x[n1][n2] = mnist.test.images[msk]\n",
    "        numbers_test_y[n1][n2] = mnist.test.labels[msk]\n"
   ]
  },
  {
   "cell_type": "code",
   "execution_count": 5,
   "metadata": {},
   "outputs": [
    {
     "name": "stdout",
     "output_type": "stream",
     "text": [
      "[0. 0. 0. 0. 0. 0. 0. 1. 0. 0.]\n"
     ]
    },
    {
     "data": {
      "image/png": "[encoded data removed]",
      "text/plain": [
       "<matplotlib.figure.Figure at 0x7f55493994e0>"
      ]
     },
     "metadata": {},
     "output_type": "display_data"
    }
   ],
   "source": [
    "# sanity check \n",
    "n1, n2 = 6, 7\n",
    "batch, i = 1, 20\n",
    "\n",
    "plt.imshow(numbers_x[n1][n2][batch][i].reshape(28,28))\n",
    "print(numbers_y[n1][n2][batch][i])"
   ]
  },
  {
   "cell_type": "markdown",
   "metadata": {},
   "source": [
    "## Prepare Tensorflow graph"
   ]
  },
  {
   "cell_type": "code",
   "execution_count": 6,
   "metadata": {},
   "outputs": [],
   "source": [
    "# Basic stuff\n",
    "x = tf.placeholder(tf.float32,shape=[None,784])\n",
    "W = tf.Variable(tf.zeros([784,10]))\n",
    "b = tf.Variable(tf.zeros([10]))\n",
    "\n",
    "# Create the Graph\n",
    "y = tf.matmul(x,W) + b \n",
    "y_true = tf.placeholder(tf.float32,[None,10])\n",
    "\n",
    "# Cross Entropy\n",
    "cross_entropy = tf.reduce_mean(tf.nn.softmax_cross_entropy_with_logits_v2(labels=y_true, logits=y))\n",
    "optimizer = tf.train.GradientDescentOptimizer(learning_rate=0.5)\n",
    "\n",
    "train = optimizer.minimize(cross_entropy)"
   ]
  },
  {
   "cell_type": "markdown",
   "metadata": {},
   "source": [
    "### Create Session"
   ]
  },
  {
   "cell_type": "code",
   "execution_count": 7,
   "metadata": {},
   "outputs": [],
   "source": [
    "init = tf.global_variables_initializer()"
   ]
  },
  {
   "cell_type": "code",
   "execution_count": 8,
   "metadata": {},
   "outputs": [
    {
     "name": "stdout",
     "output_type": "stream",
     "text": [
      "digits: 0 1  |  score: 0.9995272159576416\n",
      "digits: 0 2  |  score: 0.9920477271080017\n",
      "digits: 0 3  |  score: 0.9964824318885803\n",
      "digits: 0 4  |  score: 0.9984709620475769\n",
      "digits: 0 5  |  score: 0.9829059839248657\n",
      "digits: 0 6  |  score: 0.9855521321296692\n",
      "digits: 0 7  |  score: 0.9965139627456665\n",
      "digits: 0 8  |  score: 0.9928352236747742\n",
      "digits: 0 9  |  score: 0.9919557571411133\n",
      "digits: 1 2  |  score: 0.9921550750732422\n",
      "digits: 1 3  |  score: 0.9958041906356812\n",
      "digits: 1 4  |  score: 0.9971657991409302\n",
      "digits: 1 5  |  score: 0.9945732355117798\n",
      "digits: 1 6  |  score: 0.995699942111969\n",
      "digits: 1 7  |  score: 0.992140531539917\n",
      "digits: 1 8  |  score: 0.9881460666656494\n",
      "digits: 1 9  |  score: 0.9958022236824036\n",
      "digits: 2 3  |  score: 0.9725759029388428\n",
      "digits: 2 4  |  score: 0.9831181764602661\n",
      "digits: 2 5  |  score: 0.9771309494972229\n",
      "digits: 2 6  |  score: 0.9814070463180542\n",
      "digits: 2 7  |  score: 0.9684466123580933\n",
      "digits: 2 8  |  score: 0.9646061658859253\n",
      "digits: 2 9  |  score: 0.9828515648841858\n",
      "digits: 3 4  |  score: 0.9954819083213806\n",
      "digits: 3 5  |  score: 0.9479495286941528\n",
      "digits: 3 6  |  score: 0.9939024448394775\n",
      "digits: 3 7  |  score: 0.981844961643219\n",
      "digits: 3 8  |  score: 0.9490927457809448\n",
      "digits: 3 9  |  score: 0.9787023067474365\n",
      "digits: 4 5  |  score: 0.9925293326377869\n",
      "digits: 4 6  |  score: 0.9865979552268982\n",
      "digits: 4 7  |  score: 0.9870646595954895\n",
      "digits: 4 8  |  score: 0.9918200373649597\n",
      "digits: 4 9  |  score: 0.9522852897644043\n",
      "digits: 5 6  |  score: 0.9783783555030823\n",
      "digits: 5 7  |  score: 0.9901041388511658\n",
      "digits: 5 8  |  score: 0.9506967067718506\n",
      "digits: 5 9  |  score: 0.9805365800857544\n",
      "digits: 6 7  |  score: 0.9959717988967896\n",
      "digits: 6 8  |  score: 0.9849896430969238\n",
      "digits: 6 9  |  score: 0.9959328770637512\n",
      "digits: 7 8  |  score: 0.9800199866294861\n",
      "digits: 7 9  |  score: 0.9415807723999023\n",
      "digits: 8 9  |  score: 0.9747856855392456\n"
     ]
    }
   ],
   "source": [
    "scores_list = [] # this will host a sorted list of scores for an easier output and analysis at the end\n",
    "\n",
    "# loop through combos of digits and run tensorflow graph for each  \n",
    "for n1 in range(10):\n",
    "    for n2 in range(n1+1,10):\n",
    "\n",
    "        with tf.Session() as sess:\n",
    "            sess.run(init)\n",
    "\n",
    "            for step in range(100):\n",
    "\n",
    "                batch_x , batch_y = numbers_x[n1][n2][step], numbers_y[n1][n2][step]\n",
    "                sess.run(train,feed_dict={x:batch_x,y_true:batch_y})\n",
    "\n",
    "            # Test the Trained Model\n",
    "            matches = tf.equal(tf.argmax(y,1),tf.argmax(y_true,1))\n",
    "            acc = tf.reduce_mean(tf.cast(matches,tf.float32))\n",
    "\n",
    "            # record score\n",
    "            score = sess.run(acc,feed_dict={x:numbers_test_x[n1][n2],y_true:numbers_test_y[n1][n2]})\n",
    "            scores_list.append((n1,n2,score))\n",
    "            \n",
    "            # output results as we go..\n",
    "            print(\"digits: {} {}  |  score: {}\".format(n1,n2,score))"
   ]
  },
  {
   "cell_type": "markdown",
   "metadata": {},
   "source": [
    "# Analyze results"
   ]
  },
  {
   "cell_type": "code",
   "execution_count": 9,
   "metadata": {},
   "outputs": [],
   "source": [
    "df_scores = pd.DataFrame(scores_list, columns = ['digit_1', 'digit_2','score'])\n",
    "df_scores['simple'] = df_scores['score'].apply(lambda x: int(x*1000-900))"
   ]
  },
  {
   "cell_type": "markdown",
   "metadata": {},
   "source": [
    "## Heatmap "
   ]
  },
  {
   "cell_type": "code",
   "execution_count": 18,
   "metadata": {},
   "outputs": [],
   "source": [
    "scores_map = np.zeros([10,10])\n",
    "scores_map[:] = np.nan\n",
    "scores_map_simple = np.zeros([10,10])\n",
    "\n",
    "for index, row in df_scores.iterrows():\n",
    "    scores_map_simple[int(row['digit_1'])][int(row['digit_2'])] = row['simple']\n",
    "    \n",
    "    scores_map[int(row['digit_1'])][int(row['digit_2'])] = row['score']\n",
    "    scores_map[int(row['digit_2'])][int(row['digit_1'])] = row['score']\n",
    "\n",
    "scores_map_simple = scores_map_simple.T"
   ]
  },
  {
   "cell_type": "code",
   "execution_count": 19,
   "metadata": {},
   "outputs": [
    {
     "data": {
      "image/png": "[encoded data removed]",
      "text/plain": [
       "<matplotlib.figure.Figure at 0x7f54d80cd630>"
      ]
     },
     "metadata": {},
     "output_type": "display_data"
    }
   ],
   "source": [
    "mask = scores_map_simple == 0\n",
    "ax = sns.heatmap(scores_map_simple, annot=True, mask = mask)"
   ]
  },
  {
   "cell_type": "code",
   "execution_count": 20,
   "metadata": {},
   "outputs": [],
   "source": [
    "scores_list = []\n",
    "for index, row in df_scores.iterrows():\n",
    "    scores_list.append((\"{}  {}\".format(int(row['digit_1']),int(row['digit_2'])),row['score']))\n",
    "scores_df = pd.DataFrame(scores_list, columns = ['digits', 'score']).set_index('digits')"
   ]
  },
  {
   "cell_type": "markdown",
   "metadata": {},
   "source": [
    "## Winners and Loosers"
   ]
  },
  {
   "cell_type": "code",
   "execution_count": 21,
   "metadata": {},
   "outputs": [
    {
     "data": {
      "text/html": [
       "<div>\n",
       "<style scoped>\n",
       "    .dataframe tbody tr th:only-of-type {\n",
       "        vertical-align: middle;\n",
       "    }\n",
       "\n",
       "    .dataframe tbody tr th {\n",
       "        vertical-align: top;\n",
       "    }\n",
       "\n",
       "    .dataframe thead th {\n",
       "        text-align: right;\n",
       "    }\n",
       "</style>\n",
       "<table border=\"1\" class=\"dataframe\">\n",
       "  <thead>\n",
       "    <tr style=\"text-align: right;\">\n",
       "      <th></th>\n",
       "      <th>score</th>\n",
       "    </tr>\n",
       "    <tr>\n",
       "      <th>digits</th>\n",
       "      <th></th>\n",
       "    </tr>\n",
       "  </thead>\n",
       "  <tbody>\n",
       "    <tr>\n",
       "      <th>0  1</th>\n",
       "      <td>0.999527</td>\n",
       "    </tr>\n",
       "    <tr>\n",
       "      <th>0  4</th>\n",
       "      <td>0.998471</td>\n",
       "    </tr>\n",
       "    <tr>\n",
       "      <th>1  4</th>\n",
       "      <td>0.997166</td>\n",
       "    </tr>\n",
       "    <tr>\n",
       "      <th>0  7</th>\n",
       "      <td>0.996514</td>\n",
       "    </tr>\n",
       "    <tr>\n",
       "      <th>0  3</th>\n",
       "      <td>0.996482</td>\n",
       "    </tr>\n",
       "    <tr>\n",
       "      <th>6  7</th>\n",
       "      <td>0.995972</td>\n",
       "    </tr>\n",
       "    <tr>\n",
       "      <th>6  9</th>\n",
       "      <td>0.995933</td>\n",
       "    </tr>\n",
       "    <tr>\n",
       "      <th>1  3</th>\n",
       "      <td>0.995804</td>\n",
       "    </tr>\n",
       "    <tr>\n",
       "      <th>1  9</th>\n",
       "      <td>0.995802</td>\n",
       "    </tr>\n",
       "    <tr>\n",
       "      <th>1  6</th>\n",
       "      <td>0.995700</td>\n",
       "    </tr>\n",
       "  </tbody>\n",
       "</table>\n",
       "</div>"
      ],
      "text/plain": [
       "           score\n",
       "digits          \n",
       "0  1    0.999527\n",
       "0  4    0.998471\n",
       "1  4    0.997166\n",
       "0  7    0.996514\n",
       "0  3    0.996482\n",
       "6  7    0.995972\n",
       "6  9    0.995933\n",
       "1  3    0.995804\n",
       "1  9    0.995802\n",
       "1  6    0.995700"
      ]
     },
     "execution_count": 21,
     "metadata": {},
     "output_type": "execute_result"
    }
   ],
   "source": [
    "scores_df.sort_values('score', ascending = False).head(10)"
   ]
  },
  {
   "cell_type": "code",
   "execution_count": 14,
   "metadata": {},
   "outputs": [
    {
     "data": {
      "text/html": [
       "<div>\n",
       "<style scoped>\n",
       "    .dataframe tbody tr th:only-of-type {\n",
       "        vertical-align: middle;\n",
       "    }\n",
       "\n",
       "    .dataframe tbody tr th {\n",
       "        vertical-align: top;\n",
       "    }\n",
       "\n",
       "    .dataframe thead th {\n",
       "        text-align: right;\n",
       "    }\n",
       "</style>\n",
       "<table border=\"1\" class=\"dataframe\">\n",
       "  <thead>\n",
       "    <tr style=\"text-align: right;\">\n",
       "      <th></th>\n",
       "      <th>score</th>\n",
       "    </tr>\n",
       "    <tr>\n",
       "      <th>digits</th>\n",
       "      <th></th>\n",
       "    </tr>\n",
       "  </thead>\n",
       "  <tbody>\n",
       "    <tr>\n",
       "      <th>7  9</th>\n",
       "      <td>0.941581</td>\n",
       "    </tr>\n",
       "    <tr>\n",
       "      <th>3  5</th>\n",
       "      <td>0.947950</td>\n",
       "    </tr>\n",
       "    <tr>\n",
       "      <th>3  8</th>\n",
       "      <td>0.949093</td>\n",
       "    </tr>\n",
       "    <tr>\n",
       "      <th>5  8</th>\n",
       "      <td>0.950697</td>\n",
       "    </tr>\n",
       "    <tr>\n",
       "      <th>4  9</th>\n",
       "      <td>0.952285</td>\n",
       "    </tr>\n",
       "    <tr>\n",
       "      <th>2  8</th>\n",
       "      <td>0.964606</td>\n",
       "    </tr>\n",
       "    <tr>\n",
       "      <th>2  7</th>\n",
       "      <td>0.968447</td>\n",
       "    </tr>\n",
       "    <tr>\n",
       "      <th>2  3</th>\n",
       "      <td>0.972576</td>\n",
       "    </tr>\n",
       "    <tr>\n",
       "      <th>8  9</th>\n",
       "      <td>0.974786</td>\n",
       "    </tr>\n",
       "    <tr>\n",
       "      <th>2  5</th>\n",
       "      <td>0.977131</td>\n",
       "    </tr>\n",
       "  </tbody>\n",
       "</table>\n",
       "</div>"
      ],
      "text/plain": [
       "           score\n",
       "digits          \n",
       "7  9    0.941581\n",
       "3  5    0.947950\n",
       "3  8    0.949093\n",
       "5  8    0.950697\n",
       "4  9    0.952285\n",
       "2  8    0.964606\n",
       "2  7    0.968447\n",
       "2  3    0.972576\n",
       "8  9    0.974786\n",
       "2  5    0.977131"
      ]
     },
     "execution_count": 14,
     "metadata": {},
     "output_type": "execute_result"
    }
   ],
   "source": [
    "scores_df.sort_values('score').head(10)"
   ]
  },
  {
   "cell_type": "code",
   "execution_count": 15,
   "metadata": {},
   "outputs": [
    {
     "data": {
      "text/plain": [
       "1    0.994557\n",
       "0    0.992921\n",
       "6    0.988715\n",
       "4    0.987170\n",
       "7    0.981521\n",
       "2    0.979371\n",
       "3    0.979093\n",
       "5    0.977201\n",
       "9    0.977159\n",
       "8    0.975221\n",
       "dtype: float64"
      ]
     },
     "execution_count": 15,
     "metadata": {},
     "output_type": "execute_result"
    }
   ],
   "source": [
    "pd.DataFrame(scores_map).mean().sort_values(ascending = False)"
   ]
  }
 ],
 "metadata": {
  "kernelspec": {
   "display_name": "Python 3",
   "language": "python",
   "name": "python3"
  },
  "language_info": {
   "codemirror_mode": {
    "name": "ipython",
    "version": 3
   },
   "file_extension": ".py",
   "mimetype": "text/x-python",
   "name": "python",
   "nbconvert_exporter": "python",
   "pygments_lexer": "ipython3",
   "version": "3.6.4"
  }
 },
 "nbformat": 4,
 "nbformat_minor": 2
}
